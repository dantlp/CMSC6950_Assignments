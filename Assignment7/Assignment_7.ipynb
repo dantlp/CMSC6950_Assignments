{
 "cells": [
  {
   "cell_type": "markdown",
   "metadata": {},
   "source": [
    "# Assignment 7 - Numpy and Matplotlib\n",
    "### Due Monday July 27\n",
    "\n",
    "Your assignment should be handed in as an iPython/Jupyter notebook checked into your private GitHub repository `CMSC6950_Assignments` in a new folder named `assignment_7`. \n",
    "\n",
    "## 1 Plotting and analyzing ARGO float data\n",
    "\n",
    "#### 1.1 Import numpy\n"
   ]
  },
  {
   "cell_type": "code",
   "execution_count": 56,
   "metadata": {},
   "outputs": [],
   "source": [
    "import numpy as np"
   ]
  },
  {
   "cell_type": "markdown",
   "metadata": {},
   "source": [
    "\n",
    "#### 1.2 Use the shell command `wget` to download an example ARGO float profile from the North Atlantic.\n",
    "The data file's url is http://www.ldeo.columbia.edu/~rpa/argo_float_4901412.npz"
   ]
  },
  {
   "cell_type": "code",
   "execution_count": 5,
   "metadata": {},
   "outputs": [
    {
     "name": "stdout",
     "output_type": "stream",
     "text": [
      "Will not apply HSTS. The HSTS database must be a regular and non-world-writable file.\n",
      "ERROR: could not open HSTS store at '/home/dant/.wget-hsts'. HSTS will be disabled.\n",
      "--2020-07-28 01:21:32--  http://www.ldeo.columbia.edu/~rpa/argo_float_4901412.npz\n",
      "Resolving www.ldeo.columbia.edu (www.ldeo.columbia.edu)... 129.236.14.15\n",
      "Connecting to www.ldeo.columbia.edu (www.ldeo.columbia.edu)|129.236.14.15|:80... connected.\n",
      "HTTP request sent, awaiting response... 302 Found\n",
      "Location: https://www.ldeo.columbia.edu/~rpa/argo_float_4901412.npz [following]\n",
      "--2020-07-28 01:21:33--  https://www.ldeo.columbia.edu/~rpa/argo_float_4901412.npz\n",
      "Connecting to www.ldeo.columbia.edu (www.ldeo.columbia.edu)|129.236.14.15|:443... connected.\n",
      "HTTP request sent, awaiting response... 200 OK\n",
      "Length: 144032 (141K)\n",
      "Saving to: ‘argo_float_4901412.npz’\n",
      "\n",
      "argo_float_4901412. 100%[===================>] 140.66K   513KB/s    in 0.3s    \n",
      "\n",
      "2020-07-28 01:21:34 (513 KB/s) - ‘argo_float_4901412.npz’ saved [144032/144032]\n",
      "\n"
     ]
    }
   ],
   "source": [
    "!wget http://www.ldeo.columbia.edu/~rpa/argo_float_4901412.npz"
   ]
  },
  {
   "cell_type": "markdown",
   "metadata": {},
   "source": [
    "#### 1.3 Load the data file"
   ]
  },
  {
   "cell_type": "code",
   "execution_count": 2,
   "metadata": {},
   "outputs": [
    {
     "data": {
      "text/plain": [
       "['S', 'T', 'levels', 'lon', 'date', 'P', 'lat']"
      ]
     },
     "execution_count": 2,
     "metadata": {},
     "output_type": "execute_result"
    }
   ],
   "source": [
    "data = np.load('argo_float_4901412.npz')\n",
    "list(data)"
   ]
  },
  {
   "cell_type": "markdown",
   "metadata": {},
   "source": [
    "#### 1.4 Extract the temperature, pressure and salinity arrays to arrays T, S, P and mask out invalid data (the nan values from missing points)."
   ]
  },
  {
   "cell_type": "code",
   "execution_count": 3,
   "metadata": {},
   "outputs": [],
   "source": [
    "T= np.ma.masked_invalid(data['T'])\n",
    "S= np.ma.masked_invalid(data['S'])\n",
    "P= np.ma.masked_invalid(data['P'])"
   ]
  },
  {
   "cell_type": "markdown",
   "metadata": {},
   "source": [
    "#### 1.5 Extract the date, lat, lon, and levels arrays. "
   ]
  },
  {
   "cell_type": "code",
   "execution_count": 4,
   "metadata": {},
   "outputs": [],
   "source": [
    "lat= (data['lat'])\n",
    "lon= (data['lon'])\n",
    "levels= (data['levels'])\n",
    "date= (data['date'])"
   ]
  },
  {
   "cell_type": "markdown",
   "metadata": {},
   "source": [
    "#### 1.5 Note the shapes of T, S and P compared to these arrays. How do they line up?"
   ]
  },
  {
   "cell_type": "code",
   "execution_count": 5,
   "metadata": {},
   "outputs": [
    {
     "data": {
      "text/plain": [
       "((78, 75), (78, 75), (78, 75), (78,))"
      ]
     },
     "execution_count": 5,
     "metadata": {},
     "output_type": "execute_result"
    }
   ],
   "source": [
    "T.shape, S.shape, P.shape,levels.shape"
   ]
  },
  {
   "cell_type": "markdown",
   "metadata": {},
   "source": [
    "#### 1.6 Load the necessary package for plotting using pyplot from matplotlib."
   ]
  },
  {
   "cell_type": "code",
   "execution_count": 6,
   "metadata": {},
   "outputs": [],
   "source": [
    "from matplotlib import pyplot as plt"
   ]
  },
  {
   "cell_type": "markdown",
   "metadata": {},
   "source": [
    "#### 1.7 Make a 1 x 3 array of plots for each column of data in T, S and P. \n",
    "The vertical scale should be the `levels` data. Flip the veritcal axis direction so that levels increase downward on the plot. Each plot should have a line for each column of data. It will look messy.  Make sure you label the axes and put a title on each subplot."
   ]
  },
  {
   "cell_type": "code",
   "execution_count": 31,
   "metadata": {},
   "outputs": [
    {
     "name": "stderr",
     "output_type": "stream",
     "text": [
      "No handles with labels found to put in legend.\n"
     ]
    },
    {
     "data": {
      "image/png": "[encoded data removed]",
      "text/plain": [
       "<Figure size 432x288 with 1 Axes>"
      ]
     },
     "metadata": {
      "needs_background": "light"
     },
     "output_type": "display_data"
    }
   ],
   "source": [
    "plt.plot(T, levels, color=\"green\")\n",
    "plt.gca().invert_xaxis()\n",
    "plt.plot(S, levels, color=\"blue\")\n",
    "plt.gca().invert_xaxis()\n",
    "plt.plot(P, levels, color=\"red\")\n",
    "plt.gca().invert_xaxis()\n",
    "plt.xlabel('Value')\n",
    "plt.ylabel('Level')\n",
    "plt.legend(loc='upper left')\n",
    "plt.show()"
   ]
  },
  {
   "cell_type": "code",
   "execution_count": 7,
   "metadata": {},
   "outputs": [
    {
     "data": {
      "text/plain": [
       "<matplotlib.colorbar.Colorbar at 0x7fb25e9f0e80>"
      ]
     },
     "execution_count": 7,
     "metadata": {},
     "output_type": "execute_result"
    },
    {
     "data": {
      "image/png": "[encoded data removed]",
      "text/plain": [
       "<Figure size 432x288 with 3 Axes>"
      ]
     },
     "metadata": {
      "needs_background": "light"
     },
     "output_type": "display_data"
    }
   ],
   "source": [
    "plt.pcolormesh(S)\n",
    "plt.gca().invert_yaxis()\n",
    "plt.colorbar(),"
   ]
  },
  {
   "cell_type": "code",
   "execution_count": 8,
   "metadata": {},
   "outputs": [
    {
     "data": {
      "text/plain": [
       "<matplotlib.colorbar.Colorbar at 0x7fb25e2cd5b0>"
      ]
     },
     "execution_count": 8,
     "metadata": {},
     "output_type": "execute_result"
    },
    {
     "data": {
      "image/png": "[encoded data removed]",
      "text/plain": [
       "<Figure size 432x288 with 2 Axes>"
      ]
     },
     "metadata": {
      "needs_background": "light"
     },
     "output_type": "display_data"
    }
   ],
   "source": [
    "plt.pcolormesh(P)\n",
    "plt.gca().invert_yaxis()\n",
    "plt.colorbar()"
   ]
  },
  {
   "cell_type": "code",
   "execution_count": 13,
   "metadata": {},
   "outputs": [
    {
     "data": {
      "text/plain": [
       "<matplotlib.colorbar.Colorbar at 0x7fb25def3760>"
      ]
     },
     "execution_count": 13,
     "metadata": {},
     "output_type": "execute_result"
    },
    {
     "data": {
      "image/png": "[encoded data removed]",
      "text/plain": [
       "<Figure size 432x288 with 2 Axes>"
      ]
     },
     "metadata": {
      "needs_background": "light"
     },
     "output_type": "display_data"
    }
   ],
   "source": [
    "plt.pcolormesh(T)\n",
    "plt.gca().invert_yaxis()\n",
    "plt.colorbar()"
   ]
  },
  {
   "cell_type": "markdown",
   "metadata": {},
   "source": [
    "#### 1.8 Compute the mean and standard deviation of each of T, S and P at each depth in `levels`."
   ]
  },
  {
   "cell_type": "code",
   "execution_count": 10,
   "metadata": {},
   "outputs": [
    {
     "data": {
      "text/plain": [
       "(11.104955983298781,\n",
       " 35.53375800851532,\n",
       " 617.7636946613931,\n",
       " 4.660526903885564,\n",
       " 0.39617465005493235,\n",
       " 586.4118096127003)"
      ]
     },
     "execution_count": 10,
     "metadata": {},
     "output_type": "execute_result"
    }
   ],
   "source": [
    "Tm= T.mean()\n",
    "Sm= S.mean()\n",
    "Pm= P.mean()\n",
    "Tm,Sm,Pm, np.std(T),np.std(S),np.std(P)"
   ]
  },
  {
   "cell_type": "markdown",
   "metadata": {},
   "source": [
    "#### 1.9 Now make a similar plot, but show only the mean T, S and P at each depth. Show error bars on each plot using the standard deviations. \n",
    " Again, make sure you label the axes and put a title on each subplot."
   ]
  },
  {
   "cell_type": "code",
   "execution_count": null,
   "metadata": {},
   "outputs": [],
   "source": []
  },
  {
   "cell_type": "markdown",
   "metadata": {},
   "source": [
    "#### 1.10  Compute the mean and standard deviation of each of T, S and P for each time in `date`."
   ]
  },
  {
   "cell_type": "code",
   "execution_count": null,
   "metadata": {},
   "outputs": [],
   "source": []
  },
  {
   "cell_type": "markdown",
   "metadata": {},
   "source": [
    "#### 1.11 Plot the mean T, S and P for each entry in *time*, now on a *3 x 1* subplot grid with time on the horizontal axis. Show error bars on each plot using the standard deviations."
   ]
  },
  {
   "cell_type": "code",
   "execution_count": null,
   "metadata": {},
   "outputs": [],
   "source": []
  },
  {
   "cell_type": "markdown",
   "metadata": {},
   "source": [
    "#### 1.12 Create a scatter plot of the positions of the ARGO float data.  Color the positions by the date. Add a grid overlay. \n",
    "Don't forget to label the axes!"
   ]
  },
  {
   "cell_type": "code",
   "execution_count": null,
   "metadata": {},
   "outputs": [],
   "source": []
  },
  {
   "cell_type": "markdown",
   "metadata": {},
   "source": [
    "## 2 Matrix  multiplication\n",
    "#### 2.1 Create a function called myMatrixMultiply that takes input matrices X and Y and computes their matrix product. \n",
    "\n",
    "*Matrix Multiplication.* In this exercise you will create two square matrices $A$ and $B$ with dimensions $n \\times n$. You will then use [matrix multiplication](https://en.wikipedia.org/wiki/Matrix_multiplication) to compute their product with the results being stored in matrix $C$. Thus, you will be computing the matrix equation $C = AB$. Note that matrix multiplication is different from element by element array multiplication. See the [wikipedia page](https://en.wikipedia.org/wiki/Matrix_multiplication) if you are unsure what matrix multiplication is.\n",
    "\n",
    "Use three nested `for` loops to *explicitly* perform the matrix multiplication. The inner most loop calculates element `C[i,j]` which is equal to the sum of `A[i,k]*B[k,j]` over all values of index `k` from `0` to `n-1`. The two outer loops iterate over `i` and `j`."
   ]
  },
  {
   "cell_type": "code",
   "execution_count": 45,
   "metadata": {},
   "outputs": [],
   "source": [
    "n=10\n",
    "p=5\n",
    "m=10\n",
    "A=np.full((n,p),np.pi)\n",
    "B=np.full((p,m),5)\n",
    "C=np.zeros((n,m))\n",
    "for i in range(n):\n",
    "    for j in range(m):\n",
    "        for k in range(p):\n",
    "            C[i,j] = C[i,j]+A[i,k]*B[k,j]         "
   ]
  },
  {
   "cell_type": "code",
   "execution_count": 48,
   "metadata": {},
   "outputs": [
    {
     "data": {
      "text/plain": [
       "array([[78.53981634, 78.53981634, 78.53981634, 78.53981634, 78.53981634,\n",
       "        78.53981634, 78.53981634, 78.53981634, 78.53981634, 78.53981634],\n",
       "       [78.53981634, 78.53981634, 78.53981634, 78.53981634, 78.53981634,\n",
       "        78.53981634, 78.53981634, 78.53981634, 78.53981634, 78.53981634],\n",
       "       [78.53981634, 78.53981634, 78.53981634, 78.53981634, 78.53981634,\n",
       "        78.53981634, 78.53981634, 78.53981634, 78.53981634, 78.53981634],\n",
       "       [78.53981634, 78.53981634, 78.53981634, 78.53981634, 78.53981634,\n",
       "        78.53981634, 78.53981634, 78.53981634, 78.53981634, 78.53981634],\n",
       "       [78.53981634, 78.53981634, 78.53981634, 78.53981634, 78.53981634,\n",
       "        78.53981634, 78.53981634, 78.53981634, 78.53981634, 78.53981634],\n",
       "       [78.53981634, 78.53981634, 78.53981634, 78.53981634, 78.53981634,\n",
       "        78.53981634, 78.53981634, 78.53981634, 78.53981634, 78.53981634],\n",
       "       [78.53981634, 78.53981634, 78.53981634, 78.53981634, 78.53981634,\n",
       "        78.53981634, 78.53981634, 78.53981634, 78.53981634, 78.53981634],\n",
       "       [78.53981634, 78.53981634, 78.53981634, 78.53981634, 78.53981634,\n",
       "        78.53981634, 78.53981634, 78.53981634, 78.53981634, 78.53981634],\n",
       "       [78.53981634, 78.53981634, 78.53981634, 78.53981634, 78.53981634,\n",
       "        78.53981634, 78.53981634, 78.53981634, 78.53981634, 78.53981634],\n",
       "       [78.53981634, 78.53981634, 78.53981634, 78.53981634, 78.53981634,\n",
       "        78.53981634, 78.53981634, 78.53981634, 78.53981634, 78.53981634]])"
      ]
     },
     "execution_count": 48,
     "metadata": {},
     "output_type": "execute_result"
    }
   ],
   "source": [
    "C"
   ]
  },
  {
   "cell_type": "markdown",
   "metadata": {},
   "source": [
    "#### 2.2 Create ones() square matrices for A and B with n = 100. Use the `%timeit` function to compute the matrix product AB using your function `myMatrixMultiply`."
   ]
  },
  {
   "cell_type": "code",
   "execution_count": 58,
   "metadata": {},
   "outputs": [
    {
     "name": "stdout",
     "output_type": "stream",
     "text": [
      "29.4 ns ± 2.34 ns per loop (mean ± std. dev. of 7 runs, 10000000 loops each)\n"
     ]
    },
    {
     "data": {
      "text/plain": [
       "array([[1570.79632679, 1570.79632679, 1570.79632679, ..., 1570.79632679,\n",
       "        1570.79632679, 1570.79632679],\n",
       "       [1570.79632679, 1570.79632679, 1570.79632679, ..., 1570.79632679,\n",
       "        1570.79632679, 1570.79632679],\n",
       "       [1570.79632679, 1570.79632679, 1570.79632679, ..., 1570.79632679,\n",
       "        1570.79632679, 1570.79632679],\n",
       "       ...,\n",
       "       [1570.79632679, 1570.79632679, 1570.79632679, ..., 1570.79632679,\n",
       "        1570.79632679, 1570.79632679],\n",
       "       [1570.79632679, 1570.79632679, 1570.79632679, ..., 1570.79632679,\n",
       "        1570.79632679, 1570.79632679],\n",
       "       [1570.79632679, 1570.79632679, 1570.79632679, ..., 1570.79632679,\n",
       "        1570.79632679, 1570.79632679]])"
      ]
     },
     "execution_count": 58,
     "metadata": {},
     "output_type": "execute_result"
    }
   ],
   "source": [
    "n=100\n",
    "p=100\n",
    "m=100\n",
    "A=np.full((n,p),np.pi)\n",
    "B=np.full((p,m),5)\n",
    "C=np.zeros((n,m))\n",
    "for i in range(n):\n",
    "    for j in range(m):\n",
    "        for k in range(p):\n",
    "            C[i,j] = C[i,j]+A[i,k]*B[k,j]\n",
    "%timeit C\n",
    "C"
   ]
  },
  {
   "cell_type": "markdown",
   "metadata": {},
   "source": [
    "#### 2.3 Now let's see how much faster Numpy's built in matrix multiplication routine is. \n",
    "In Numpy, matrix multiplication is done using the `dot()` function. Use the `%timeit` function to compute the matrix product AB for n = 100 using `dot()` and time it using the `%timeit` function.\n",
    "\n",
    "How much faster is using NumPy's `dot()` compared your `myMatrixMultiply` function? "
   ]
  },
  {
   "cell_type": "code",
   "execution_count": 61,
   "metadata": {},
   "outputs": [
    {
     "name": "stdout",
     "output_type": "stream",
     "text": [
      "201 µs ± 21.6 µs per loop (mean ± std. dev. of 7 runs, 1000 loops each)\n"
     ]
    },
    {
     "data": {
      "text/plain": [
       "array([[1570.79632679, 1570.79632679, 1570.79632679, ..., 1570.79632679,\n",
       "        1570.79632679, 1570.79632679],\n",
       "       [1570.79632679, 1570.79632679, 1570.79632679, ..., 1570.79632679,\n",
       "        1570.79632679, 1570.79632679],\n",
       "       [1570.79632679, 1570.79632679, 1570.79632679, ..., 1570.79632679,\n",
       "        1570.79632679, 1570.79632679],\n",
       "       ...,\n",
       "       [1570.79632679, 1570.79632679, 1570.79632679, ..., 1570.79632679,\n",
       "        1570.79632679, 1570.79632679],\n",
       "       [1570.79632679, 1570.79632679, 1570.79632679, ..., 1570.79632679,\n",
       "        1570.79632679, 1570.79632679],\n",
       "       [1570.79632679, 1570.79632679, 1570.79632679, ..., 1570.79632679,\n",
       "        1570.79632679, 1570.79632679]])"
      ]
     },
     "execution_count": 61,
     "metadata": {},
     "output_type": "execute_result"
    }
   ],
   "source": [
    "n=100\n",
    "p=100\n",
    "m=100\n",
    "A=np.full((n,p),np.pi)\n",
    "B=np.full((p,m),5)\n",
    "%timeit np.dot(A,B)\n",
    "np.dot(A,B)"
   ]
  },
  {
   "cell_type": "markdown",
   "metadata": {},
   "source": [
    "Now time how long it takes for n = 1000"
   ]
  },
  {
   "cell_type": "code",
   "execution_count": 62,
   "metadata": {},
   "outputs": [
    {
     "name": "stdout",
     "output_type": "stream",
     "text": [
      "98.3 ms ± 2.29 ms per loop (mean ± std. dev. of 7 runs, 10 loops each)\n"
     ]
    },
    {
     "data": {
      "text/plain": [
       "array([[15707.96326795, 15707.96326795, 15707.96326795, ...,\n",
       "        15707.96326795, 15707.96326795, 15707.96326795],\n",
       "       [15707.96326795, 15707.96326795, 15707.96326795, ...,\n",
       "        15707.96326795, 15707.96326795, 15707.96326795],\n",
       "       [15707.96326795, 15707.96326795, 15707.96326795, ...,\n",
       "        15707.96326795, 15707.96326795, 15707.96326795],\n",
       "       ...,\n",
       "       [15707.96326795, 15707.96326795, 15707.96326795, ...,\n",
       "        15707.96326795, 15707.96326795, 15707.96326795],\n",
       "       [15707.96326795, 15707.96326795, 15707.96326795, ...,\n",
       "        15707.96326795, 15707.96326795, 15707.96326795],\n",
       "       [15707.96326795, 15707.96326795, 15707.96326795, ...,\n",
       "        15707.96326795, 15707.96326795, 15707.96326795]])"
      ]
     },
     "execution_count": 62,
     "metadata": {},
     "output_type": "execute_result"
    }
   ],
   "source": [
    "n=1000\n",
    "p=1000\n",
    "m=1000\n",
    "A=np.full((n,p),np.pi)\n",
    "B=np.full((p,m),5)\n",
    "%timeit np.dot(A,B)\n",
    "np.dot(A,B)"
   ]
  }
 ],
 "metadata": {
  "kernelspec": {
   "display_name": "Python 3",
   "language": "python",
   "name": "python3"
  },
  "language_info": {
   "codemirror_mode": {
    "name": "ipython",
    "version": 3
   },
   "file_extension": ".py",
   "mimetype": "text/x-python",
   "name": "python",
   "nbconvert_exporter": "python",
   "pygments_lexer": "ipython3",
   "version": "3.8.2"
  }
 },
 "nbformat": 4,
 "nbformat_minor": 4
}
